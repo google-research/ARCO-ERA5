{
 "cells": [
  {
   "cell_type": "code",
   "execution_count": 1,
   "metadata": {},
   "outputs": [],
   "source": [
    "import datetime"
   ]
  },
  {
   "cell_type": "code",
   "execution_count": 3,
   "metadata": {},
   "outputs": [],
   "source": [
    "def get_month_range(date: datetime.date):\n",
    "    \"\"\"Return the first and last date of the previous month based on the input date.\n",
    "\n",
    "    Parameters:\n",
    "        date (datetime.date): The input date.\n",
    "\n",
    "    Returns:\n",
    "        tuple: A tuple containing the first and last date of the month as\n",
    "                datetime.date objects.\n",
    "    \"\"\"\n",
    "    last_day = date.replace(day=1) - datetime.timedelta(days=1)\n",
    "    first_day = last_day.replace(day=1)\n",
    "    return first_day, last_day"
   ]
  },
  {
   "cell_type": "code",
   "execution_count": 15,
   "metadata": {},
   "outputs": [],
   "source": [
    "def get_previous_month_dates():\n",
    "    \"\"\"Return a dictionary containing the first and third previous month's dates from\n",
    "    the current date.\n",
    "\n",
    "    Returns:\n",
    "        dict: A dictionary containing the following key-value pairs:\n",
    "            - 'first_day_third_prev': The first day of the third previous month\n",
    "                                        (datetime.date).\n",
    "            - 'last_day_third_prev': The last day of the third previous month\n",
    "                                        (datetime.date).\n",
    "            - 'sl_year': The year of the third previous month in 'YYYY' format (str).\n",
    "            - 'sl_month': The month of the third previous month in 'MM' format (str).\n",
    "    \"\"\"\n",
    "\n",
    "    today = datetime.date.today()\n",
    "    # Calculate the correct previous month considering months from 1 to 12\n",
    "    prev_month = today.month + 10 if today.month < 3 else today.month - 2\n",
    "    third_prev_month = today.replace(month=prev_month)\n",
    "    first_day_third_prev, last_day_third_prev = get_month_range(third_prev_month)\n",
    "    first_date_third_prev = first_day_third_prev\n",
    "    sl_year, sl_month = str(first_date_third_prev)[:4], str(first_date_third_prev)[5:7]\n",
    "\n",
    "    return {\n",
    "        'first_day_third_prev': first_day_third_prev,\n",
    "        'last_day_third_prev': last_day_third_prev,\n",
    "        'sl_year': sl_year,\n",
    "        'sl_month': sl_month,\n",
    "    }"
   ]
  },
  {
   "cell_type": "code",
   "execution_count": 22,
   "metadata": {},
   "outputs": [
    {
     "name": "stdout",
     "output_type": "stream",
     "text": [
      "2024-01-01 2024-01-31\n"
     ]
    }
   ],
   "source": [
    "output = get_previous_month_dates()\n",
    "print(output['first_day_third_prev'], output['last_day_third_prev'])"
   ]
  },
  {
   "cell_type": "code",
   "execution_count": 23,
   "metadata": {},
   "outputs": [
    {
     "data": {
      "text/plain": [
       "'01/2024'"
      ]
     },
     "execution_count": 23,
     "metadata": {},
     "output_type": "execute_result"
    }
   ],
   "source": [
    "x = output['sl_month']\n",
    "y =output['sl_year']\n",
    "month = f'{x}/{y}'\n",
    "month"
   ]
  },
  {
   "cell_type": "code",
   "execution_count": 27,
   "metadata": {},
   "outputs": [],
   "source": [
    "month = datetime.datetime.strptime(month, \"%m/%Y\")"
   ]
  },
  {
   "cell_type": "code",
   "execution_count": 31,
   "metadata": {},
   "outputs": [
    {
     "data": {
      "text/plain": [
       "2024"
      ]
     },
     "execution_count": 31,
     "metadata": {},
     "output_type": "execute_result"
    }
   ],
   "source": [
    "month.year"
   ]
  },
  {
   "cell_type": "code",
   "execution_count": 20,
   "metadata": {},
   "outputs": [],
   "source": [
    "import re\n",
    "def replace_non_alphanumeric_with_hyphen(input_string: str) -> str:\n",
    "    \"\"\"\n",
    "    Replace non-alphanumeric characters with hyphens in the input string.\n",
    "\n",
    "    Args:\n",
    "        input_string (str): The input string to process.\n",
    "\n",
    "    Returns:\n",
    "        str: The processed string with non-alphanumeric characters replaced by hyphens.\n",
    "    \"\"\"\n",
    "    return re.sub(r'[^a-z0-9-]', '-', input_string)"
   ]
  },
  {
   "cell_type": "code",
   "execution_count": 21,
   "metadata": {},
   "outputs": [
    {
     "data": {
      "text/plain": [
       "'01-2024'"
      ]
     },
     "execution_count": 21,
     "metadata": {},
     "output_type": "execute_result"
    }
   ],
   "source": [
    "replace_non_alphanumeric_with_hyphen(month)"
   ]
  }
 ],
 "metadata": {
  "kernelspec": {
   "display_name": "arco-era-5",
   "language": "python",
   "name": "python3"
  },
  "language_info": {
   "codemirror_mode": {
    "name": "ipython",
    "version": 3
   },
   "file_extension": ".py",
   "mimetype": "text/x-python",
   "name": "python",
   "nbconvert_exporter": "python",
   "pygments_lexer": "ipython3",
   "version": "3.8.17"
  },
  "orig_nbformat": 4
 },
 "nbformat": 4,
 "nbformat_minor": 2
}
